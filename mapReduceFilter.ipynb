{
 "cells": [
  {
   "cell_type": "markdown",
   "metadata": {},
   "source": [
    "- map(function, iterable): Applies a function to all elements in an iterable and returns an iterator.\n",
    "- filter(function, iterable): Filters elements based on a condition and returns an iterator.\n",
    "- reduce(function, iterable): Reduces an iterable to a single value by applying a function cumulatively."
   ]
  },
  {
   "cell_type": "code",
   "execution_count": 11,
   "metadata": {},
   "outputs": [
    {
     "name": "stdout",
     "output_type": "stream",
     "text": [
      "[7, 10]\n",
      "[7, 9]\n",
      "[5, 8]\n",
      "[10, 8]\n"
     ]
    }
   ],
   "source": [
    "#If multiple iterables are passed, map() stops at the shortest iterable.\n",
    "print(list(map(lambda x,y: x+y, [1,2,3], {6:'a', 8:'b'})))\n",
    "\n",
    "print(list(map(lambda x,y: x+y, [1,2,3], {6,7})))\n",
    "\n",
    "print(list(map(lambda x,y: x+y, [1,2,3], (4,6))))\n",
    "\n",
    "print(list(map(lambda x,y: x+y, [1,2,3], [9,6])))"
   ]
  },
  {
   "cell_type": "markdown",
   "metadata": {},
   "source": [
    "**reduce()** is remove from Python 3 built in function and moved to functools"
   ]
  },
  {
   "cell_type": "code",
   "execution_count": 15,
   "metadata": {},
   "outputs": [
    {
     "name": "stdout",
     "output_type": "stream",
     "text": [
      "19\n"
     ]
    }
   ],
   "source": [
    "from functools import reduce\n",
    "print(reduce(lambda x, y: x+y, [1,5,6,7]))"
   ]
  },
  {
   "cell_type": "markdown",
   "metadata": {},
   "source": [
    "Apply map() on a nester list structure"
   ]
  },
  {
   "cell_type": "code",
   "execution_count": 16,
   "metadata": {},
   "outputs": [
    {
     "name": "stdout",
     "output_type": "stream",
     "text": [
      "[[2, 4], [6, 8]]\n"
     ]
    }
   ],
   "source": [
    "matrix = [[1,2], [3,4]]\n",
    "result = list(map(lambda row: list(map(lambda x: x*2, row)), matrix))\n",
    "print(result)"
   ]
  }
 ],
 "metadata": {
  "kernelspec": {
   "display_name": "Python 3",
   "language": "python",
   "name": "python3"
  },
  "language_info": {
   "codemirror_mode": {
    "name": "ipython",
    "version": 3
   },
   "file_extension": ".py",
   "mimetype": "text/x-python",
   "name": "python",
   "nbconvert_exporter": "python",
   "pygments_lexer": "ipython3",
   "version": "3.11.3"
  }
 },
 "nbformat": 4,
 "nbformat_minor": 2
}
