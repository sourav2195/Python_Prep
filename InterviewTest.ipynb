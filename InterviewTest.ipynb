{
 "cells": [
  {
   "cell_type": "markdown",
   "metadata": {},
   "source": [
    "***swapecase()***"
   ]
  },
  {
   "cell_type": "code",
   "execution_count": 11,
   "metadata": {},
   "outputs": [
    {
     "name": "stdout",
     "output_type": "stream",
     "text": [
      "hELLO, wORLD 2025!\n"
     ]
    }
   ],
   "source": [
    "string = \"Hello, World 2025!\"\n",
    "print(string.swapcase())"
   ]
  },
  {
   "cell_type": "markdown",
   "metadata": {},
   "source": [
    "***shuffel()***"
   ]
  },
  {
   "cell_type": "code",
   "execution_count": 12,
   "metadata": {},
   "outputs": [
    {
     "name": "stdout",
     "output_type": "stream",
     "text": [
      "['B', 'A', 'C', 'E', 'D']\n",
      "['B', 'A', 'C', 'E', 'D']\n"
     ]
    }
   ],
   "source": [
    "import random\n",
    "sample_list = ['A', 'B', 'C', 'D', 'E']\n",
    "#first shuffle\n",
    "random.shuffle(sample_list)\n",
    "print(sample_list)\n",
    "#second shuffle\n",
    "random.shuffle(sample_list)\n",
    "print(sample_list)\n"
   ]
  },
  {
   "cell_type": "markdown",
   "metadata": {},
   "source": [
    "***DocString***"
   ]
  },
  {
   "cell_type": "code",
   "execution_count": 16,
   "metadata": {},
   "outputs": [
    {
     "name": "stdout",
     "output_type": "stream",
     "text": [
      "Help on function add_numbers in module __main__:\n",
      "\n",
      "add_numbers(a, b)\n",
      "    Adds two numbers and returns the result.\n",
      "    \n",
      "    Parameters:\n",
      "        a (int or float): The first number.\n",
      "        b (int or float): The second number.\n",
      "        \n",
      "    Returns:\n",
      "        int or float: The sum of a and b.\n",
      "\n"
     ]
    }
   ],
   "source": [
    "def add_numbers(a, b):\n",
    "    \"\"\"\n",
    "    Adds two numbers and returns the result.\n",
    "    \n",
    "    Parameters:\n",
    "        a (int or float): The first number.\n",
    "        b (int or float): The second number.\n",
    "        \n",
    "    Returns:\n",
    "        int or float: The sum of a and b.\n",
    "    \"\"\"\n",
    "    return a + b\n",
    "#print(add_numbers.__doc__)\n",
    "help(add_numbers)"
   ]
  },
  {
   "cell_type": "markdown",
   "metadata": {},
   "source": [
    "***Tuple***"
   ]
  },
  {
   "cell_type": "code",
   "execution_count": 25,
   "metadata": {},
   "outputs": [
    {
     "name": "stdout",
     "output_type": "stream",
     "text": [
      "1780894661456\n",
      "(50, 40, 30, 20, 10)\n",
      "1780889277472\n",
      "(10, 20, 30, 40, 50, 'A', 'V')\n"
     ]
    }
   ],
   "source": [
    "tuple = (10, 20, 30, 40, 50)\n",
    "print(id(tuple))\n",
    "print(tuple[::-1])\n",
    "tuple += ('A', 'V')\n",
    "print(id(tuple))\n",
    "print(tuple)\n",
    "\n"
   ]
  },
  {
   "cell_type": "markdown",
   "metadata": {},
   "source": [
    "Write a function that reverses the order of words in a string while keeping the words themselves intact.You cannot use built-in functions like split() and join()\n",
    "Input: s = \"Python is fun\"\n",
    "Output: \"fun is Python\""
   ]
  },
  {
   "cell_type": "code",
   "execution_count": 60,
   "metadata": {},
   "outputs": [
    {
     "name": "stdout",
     "output_type": "stream",
     "text": [
      "fun is Python\n"
     ]
    }
   ],
   "source": [
    "def reverse_word(s):\n",
    "    #return  ' '.join(s.split()[::-1])\n",
    "    #return ' '.join(reversed(s.split()))\n",
    "    results = [] #to store the word\n",
    "    word = \"\" #to build the individual word\n",
    "    for i in s:\n",
    "        if i == \" \":\n",
    "            results.append(word) # Add word to result when a space is encountered\n",
    "            word = \"\"   # Reset word for the next one\n",
    "        else:\n",
    "            word += i # Build the word character by character\n",
    "    results.append(word) #add the last word \n",
    "    return ' '.join(results[::-1])\n",
    "    #return results[::-1]\n",
    "\n",
    "s = \"Python is fun\"\n",
    "print(reverse_word(s))"
   ]
  },
  {
   "cell_type": "markdown",
   "metadata": {},
   "source": [
    "Input: S = \"Python is fun\" Output: \"nohtyP si nuf\""
   ]
  },
  {
   "cell_type": "code",
   "execution_count": 63,
   "metadata": {},
   "outputs": [
    {
     "name": "stdout",
     "output_type": "stream",
     "text": [
      "nohtyP si nuf\n"
     ]
    }
   ],
   "source": [
    "def reverse_each_word(s):\n",
    "    #return ' '.join([word[::-1] for word in s.split()])\n",
    "    results = []\n",
    "    word = \"\"\n",
    "    for i in s:\n",
    "        if i == \" \":\n",
    "            results.append(word[::-1])\n",
    "            word = \"\"\n",
    "        else:\n",
    "            word +=i\n",
    "    results.append(word[::-1])\n",
    "    return \" \".join(results)\n",
    "\n",
    "s = \"Python is fun\"\n",
    "print(reverse_each_word(s))"
   ]
  },
  {
   "cell_type": "markdown",
   "metadata": {},
   "source": [
    "Input: S = \"Python is fun\" Output: \"nuf si nohtyP\""
   ]
  },
  {
   "cell_type": "code",
   "execution_count": 67,
   "metadata": {},
   "outputs": [
    {
     "name": "stdout",
     "output_type": "stream",
     "text": [
      "loohcs ot gniog ma I\n"
     ]
    }
   ],
   "source": [
    "def reverse_wods_sertence(s):\n",
    "    #return \" \".join(word[::-1] for word in s.split()[::-1])\n",
    "    results = []\n",
    "    words = \"\"\n",
    "    for i in s:\n",
    "        if i == \" \":\n",
    "            results.append(words[::-1])\n",
    "            words = \"\"\n",
    "        else:\n",
    "            words +=i\n",
    "    results.append(words[::-1])\n",
    "    return ' '.join(results[::-1])\n",
    "\n",
    "s = \"I am going to school\"\n",
    "print(reverse_wods_sertence(s))"
   ]
  },
  {
   "cell_type": "markdown",
   "metadata": {},
   "source": [
    "Write a function that finds all starting indices of anagrams of a given substring in a larger string.\n",
    "Input: s = \"cbaebabacd\"\n",
    "p = \"abc\"  Output: [0, 6] (The substring \"abc\" has anagrams at indices 0 (\"cba\") and 6 (\"bac\").)"
   ]
  },
  {
   "cell_type": "code",
   "execution_count": 87,
   "metadata": {},
   "outputs": [
    {
     "name": "stdout",
     "output_type": "stream",
     "text": [
      "{0: 'cba', 6: 'bac', 7: 'acb'}\n"
     ]
    }
   ],
   "source": [
    "from collections import Counter\n",
    "\n",
    "def find_anagrams(string, substr):\n",
    "    substr_count = Counter(substr)\n",
    "    str_count = Counter(string[:len(substr)])\n",
    "    #result = []\n",
    "    result ={}\n",
    "\n",
    "    for i in range(len(substr), len(string)):\n",
    "        #check the current window match the target anagram pattern\n",
    "        #print(i)\n",
    "        if str_count == substr_count:\n",
    "            #result.append(i - len(substr))\n",
    "            result[i - len(substr)] = string[i - len(substr):i]\n",
    "        \n",
    "        #slide the window by one char to the right\n",
    "        str_count[string[i]] +=1\n",
    "        #remove the leftmost char from the window\n",
    "        str_count[string[i - len(substr)]] -=1\n",
    "\n",
    "        #clean up the counter to remove the zero count\n",
    "        if str_count[string[i - len(substr)]] == 0:\n",
    "            del str_count[string[i - len(substr)]]\n",
    "        #print(f\"Str Counter:{str_count}\")\n",
    "    \n",
    "    #check the last window after the loop\n",
    "    if str_count == substr_count:\n",
    "        #result.append(len(string) - len(substr))\n",
    "        result[len(string) - len(substr)] = string[len(string) - len(substr):]\n",
    "\n",
    "    return result\n",
    "\n",
    "string = \"cbaebabacb\"\n",
    "substr = \"abc\"\n",
    "print(find_anagrams(string, substr))\n"
   ]
  },
  {
   "cell_type": "markdown",
   "metadata": {},
   "source": [
    "**Group Anagrams :** Given a list of strings, group them into anagrams. words = [\"eat\", \"tea\", \"tan\", \"ate\", \"nat\", \"bat\"]  Output: [[\"eat\", \"tea\", \"ate\"], [\"tan\", \"nat\"], [\"bat\"]]"
   ]
  },
  {
   "cell_type": "code",
   "execution_count": 30,
   "metadata": {},
   "outputs": [
    {
     "name": "stdout",
     "output_type": "stream",
     "text": [
      "[['eat', 'tea', 'ate'], ['tan', 'nat'], ['bat']]\n"
     ]
    }
   ],
   "source": [
    "def group_anagram(words):\n",
    "    anagrams ={}\n",
    "\n",
    "    for word in words:\n",
    "        # sort the word to get the commn key\n",
    "        key = \"\".join(sorted(word))\n",
    "        #print(key)\n",
    "        # add the word to the key in the dictionary\n",
    "        if key in anagrams:\n",
    "            anagrams[key].append(word)\n",
    "        else:\n",
    "            anagrams[key] = [word]\n",
    "        \n",
    "    return list(anagrams.values())\n",
    "\n",
    "words  = [\"eat\", \"tea\", \"tan\", \"ate\", \"nat\", \"bat\"]\n",
    "print(group_anagram(words))"
   ]
  },
  {
   "cell_type": "code",
   "execution_count": 12,
   "metadata": {},
   "outputs": [
    {
     "name": "stdout",
     "output_type": "stream",
     "text": [
      "defaultdict(None, {'A': 10})\n",
      "{'Z': [20, 90]}\n"
     ]
    }
   ],
   "source": [
    "from collections import defaultdict\n",
    "a = defaultdict()\n",
    "a['A'] = 10\n",
    "print(a)\n",
    "\n",
    "b = {}\n",
    "b['Z'] = [20,90]\n",
    "print(b)"
   ]
  }
 ],
 "metadata": {
  "kernelspec": {
   "display_name": "Python 3",
   "language": "python",
   "name": "python3"
  },
  "language_info": {
   "codemirror_mode": {
    "name": "ipython",
    "version": 3
   },
   "file_extension": ".py",
   "mimetype": "text/x-python",
   "name": "python",
   "nbconvert_exporter": "python",
   "pygments_lexer": "ipython3",
   "version": "3.11.3"
  }
 },
 "nbformat": 4,
 "nbformat_minor": 2
}
