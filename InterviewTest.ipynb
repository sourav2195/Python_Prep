{
 "cells": [
  {
   "cell_type": "markdown",
   "metadata": {},
   "source": [
    "***swapecase()***"
   ]
  },
  {
   "cell_type": "code",
   "execution_count": 11,
   "metadata": {},
   "outputs": [
    {
     "name": "stdout",
     "output_type": "stream",
     "text": [
      "hELLO, wORLD 2025!\n"
     ]
    }
   ],
   "source": [
    "string = \"Hello, World 2025!\"\n",
    "print(string.swapcase())"
   ]
  },
  {
   "cell_type": "markdown",
   "metadata": {},
   "source": [
    "***shuffel()***"
   ]
  },
  {
   "cell_type": "code",
   "execution_count": 12,
   "metadata": {},
   "outputs": [
    {
     "name": "stdout",
     "output_type": "stream",
     "text": [
      "['B', 'A', 'C', 'E', 'D']\n",
      "['B', 'A', 'C', 'E', 'D']\n"
     ]
    }
   ],
   "source": [
    "import random\n",
    "sample_list = ['A', 'B', 'C', 'D', 'E']\n",
    "#first shuffle\n",
    "random.shuffle(sample_list)\n",
    "print(sample_list)\n",
    "#second shuffle\n",
    "random.shuffle(sample_list)\n",
    "print(sample_list)\n"
   ]
  },
  {
   "cell_type": "markdown",
   "metadata": {},
   "source": [
    "***DocString***"
   ]
  },
  {
   "cell_type": "code",
   "execution_count": 16,
   "metadata": {},
   "outputs": [
    {
     "name": "stdout",
     "output_type": "stream",
     "text": [
      "Help on function add_numbers in module __main__:\n",
      "\n",
      "add_numbers(a, b)\n",
      "    Adds two numbers and returns the result.\n",
      "    \n",
      "    Parameters:\n",
      "        a (int or float): The first number.\n",
      "        b (int or float): The second number.\n",
      "        \n",
      "    Returns:\n",
      "        int or float: The sum of a and b.\n",
      "\n"
     ]
    }
   ],
   "source": [
    "def add_numbers(a, b):\n",
    "    \"\"\"\n",
    "    Adds two numbers and returns the result.\n",
    "    \n",
    "    Parameters:\n",
    "        a (int or float): The first number.\n",
    "        b (int or float): The second number.\n",
    "        \n",
    "    Returns:\n",
    "        int or float: The sum of a and b.\n",
    "    \"\"\"\n",
    "    return a + b\n",
    "#print(add_numbers.__doc__)\n",
    "help(add_numbers)"
   ]
  },
  {
   "cell_type": "markdown",
   "metadata": {},
   "source": [
    "***Tuple***"
   ]
  },
  {
   "cell_type": "code",
   "execution_count": 25,
   "metadata": {},
   "outputs": [
    {
     "name": "stdout",
     "output_type": "stream",
     "text": [
      "1780894661456\n",
      "(50, 40, 30, 20, 10)\n",
      "1780889277472\n",
      "(10, 20, 30, 40, 50, 'A', 'V')\n"
     ]
    }
   ],
   "source": [
    "tuple = (10, 20, 30, 40, 50)\n",
    "print(id(tuple))\n",
    "print(tuple[::-1])\n",
    "tuple += ('A', 'V')\n",
    "print(id(tuple))\n",
    "print(tuple)\n",
    "\n"
   ]
  },
  {
   "cell_type": "markdown",
   "metadata": {},
   "source": [
    "Write a function that reverses the order of words in a string while keeping the words themselves intact.You cannot use built-in functions like split() and join()\n",
    "Input: s = \"Python is fun\"\n",
    "Output: \"fun is Python\""
   ]
  },
  {
   "cell_type": "code",
   "execution_count": 60,
   "metadata": {},
   "outputs": [
    {
     "name": "stdout",
     "output_type": "stream",
     "text": [
      "fun is Python\n"
     ]
    }
   ],
   "source": [
    "def reverse_word(s):\n",
    "    #return  ' '.join(s.split()[::-1])\n",
    "    #return ' '.join(reversed(s.split()))\n",
    "    results = [] #to store the word\n",
    "    word = \"\" #to build the individual word\n",
    "    for i in s:\n",
    "        if i == \" \":\n",
    "            results.append(word) # Add word to result when a space is encountered\n",
    "            word = \"\"   # Reset word for the next one\n",
    "        else:\n",
    "            word += i # Build the word character by character\n",
    "    results.append(word) #add the last word \n",
    "    return ' '.join(results[::-1])\n",
    "    #return results[::-1]\n",
    "\n",
    "s = \"Python is fun\"\n",
    "print(reverse_word(s))"
   ]
  },
  {
   "cell_type": "markdown",
   "metadata": {},
   "source": [
    "Input: S = \"Python is fun\" Output: \"nohtyP si nuf\""
   ]
  },
  {
   "cell_type": "code",
   "execution_count": 63,
   "metadata": {},
   "outputs": [
    {
     "name": "stdout",
     "output_type": "stream",
     "text": [
      "nohtyP si nuf\n"
     ]
    }
   ],
   "source": [
    "def reverse_each_word(s):\n",
    "    #return ' '.join([word[::-1] for word in s.split()])\n",
    "    results = []\n",
    "    word = \"\"\n",
    "    for i in s:\n",
    "        if i == \" \":\n",
    "            results.append(word[::-1])\n",
    "            word = \"\"\n",
    "        else:\n",
    "            word +=i\n",
    "    results.append(word[::-1])\n",
    "    return \" \".join(results)\n",
    "\n",
    "s = \"Python is fun\"\n",
    "print(reverse_each_word(s))"
   ]
  },
  {
   "cell_type": "markdown",
   "metadata": {},
   "source": [
    "Input: S = \"Python is fun\" Output: \"nuf si nohtyP\""
   ]
  },
  {
   "cell_type": "code",
   "execution_count": 67,
   "metadata": {},
   "outputs": [
    {
     "name": "stdout",
     "output_type": "stream",
     "text": [
      "loohcs ot gniog ma I\n"
     ]
    }
   ],
   "source": [
    "def reverse_wods_sertence(s):\n",
    "    #return \" \".join(word[::-1] for word in s.split()[::-1])\n",
    "    results = []\n",
    "    words = \"\"\n",
    "    for i in s:\n",
    "        if i == \" \":\n",
    "            results.append(words[::-1])\n",
    "            words = \"\"\n",
    "        else:\n",
    "            words +=i\n",
    "    results.append(words[::-1])\n",
    "    return ' '.join(results[::-1])\n",
    "\n",
    "s = \"I am going to school\"\n",
    "print(reverse_wods_sertence(s))"
   ]
  },
  {
   "cell_type": "markdown",
   "metadata": {},
   "source": [
    "Write a function that finds all starting indices of anagrams of a given substring in a larger string.\n",
    "Input: s = \"cbaebabacd\"\n",
    "p = \"abc\"  Output: [0, 6] (The substring \"abc\" has anagrams at indices 0 (\"cba\") and 6 (\"bac\").)"
   ]
  },
  {
   "cell_type": "code",
   "execution_count": 87,
   "metadata": {},
   "outputs": [
    {
     "name": "stdout",
     "output_type": "stream",
     "text": [
      "{0: 'cba', 6: 'bac', 7: 'acb'}\n"
     ]
    }
   ],
   "source": [
    "from collections import Counter\n",
    "\n",
    "def find_anagrams(string, substr):\n",
    "    substr_count = Counter(substr)\n",
    "    str_count = Counter(string[:len(substr)])\n",
    "    #result = []\n",
    "    result ={}\n",
    "\n",
    "    for i in range(len(substr), len(string)):\n",
    "        #check the current window match the target anagram pattern\n",
    "        #print(i)\n",
    "        if str_count == substr_count:\n",
    "            #result.append(i - len(substr))\n",
    "            result[i - len(substr)] = string[i - len(substr):i]\n",
    "        \n",
    "        #slide the window by one char to the right\n",
    "        str_count[string[i]] +=1\n",
    "        #remove the leftmost char from the window\n",
    "        str_count[string[i - len(substr)]] -=1\n",
    "\n",
    "        #clean up the counter to remove the zero count\n",
    "        if str_count[string[i - len(substr)]] == 0:\n",
    "            del str_count[string[i - len(substr)]]\n",
    "        #print(f\"Str Counter:{str_count}\")\n",
    "    \n",
    "    #check the last window after the loop\n",
    "    if str_count == substr_count:\n",
    "        #result.append(len(string) - len(substr))\n",
    "        result[len(string) - len(substr)] = string[len(string) - len(substr):]\n",
    "\n",
    "    return result\n",
    "\n",
    "string = \"cbaebabacb\"\n",
    "substr = \"abc\"\n",
    "print(find_anagrams(string, substr))\n"
   ]
  },
  {
   "cell_type": "markdown",
   "metadata": {},
   "source": [
    "**Group Anagrams :** Given a list of strings, group them into anagrams. words = [\"eat\", \"tea\", \"tan\", \"ate\", \"nat\", \"bat\"]  Output: [[\"eat\", \"tea\", \"ate\"], [\"tan\", \"nat\"], [\"bat\"]]"
   ]
  },
  {
   "cell_type": "code",
   "execution_count": 30,
   "metadata": {},
   "outputs": [
    {
     "name": "stdout",
     "output_type": "stream",
     "text": [
      "[['eat', 'tea', 'ate'], ['tan', 'nat'], ['bat']]\n"
     ]
    }
   ],
   "source": [
    "def group_anagram(words):\n",
    "    anagrams ={}\n",
    "\n",
    "    for word in words:\n",
    "        # sort the word to get the commn key\n",
    "        key = \"\".join(sorted(word))\n",
    "        #print(key)\n",
    "        # add the word to the key in the dictionary\n",
    "        if key in anagrams:\n",
    "            anagrams[key].append(word)\n",
    "        else:\n",
    "            anagrams[key] = [word]\n",
    "        \n",
    "    return list(anagrams.values())\n",
    "\n",
    "words  = [\"eat\", \"tea\", \"tan\", \"ate\", \"nat\", \"bat\"]\n",
    "print(group_anagram(words))"
   ]
  },
  {
   "cell_type": "code",
   "execution_count": 12,
   "metadata": {},
   "outputs": [
    {
     "name": "stdout",
     "output_type": "stream",
     "text": [
      "defaultdict(None, {'A': 10})\n",
      "{'Z': [20, 90]}\n"
     ]
    }
   ],
   "source": [
    "from collections import defaultdict\n",
    "a = defaultdict()\n",
    "a['A'] = 10\n",
    "print(a)\n",
    "\n",
    "b = {}\n",
    "b['Z'] = [20,90]\n",
    "print(b)"
   ]
  },
  {
   "cell_type": "code",
   "execution_count": 2,
   "metadata": {},
   "outputs": [
    {
     "name": "stdout",
     "output_type": "stream",
     "text": [
      "{'amazing': 0, 'fast.': 1, 'is': 2, 'and': 3, 'AI': 4, 'evolving': 5}\n",
      "{0: 'amazing', 1: 'fast.', 2: 'is', 3: 'and', 4: 'AI', 5: 'evolving'}\n"
     ]
    }
   ],
   "source": [
    "text = \"AI is amazing and AI is evolving fast.\"\n",
    "\n",
    "# Tokenization\n",
    "tokens = text.split()  # Basic word tokenization\n",
    "vocab = list(set(tokens))  # Unique vocabulary\n",
    "token_to_idx = {word: idx for idx, word in enumerate(vocab)}  # Map tokens to indices\n",
    "idx_to_token = {idx: word for word, idx in token_to_idx.items()}\n",
    "\n",
    "print(token_to_idx)\n",
    "print(idx_to_token)"
   ]
  },
  {
   "cell_type": "code",
   "execution_count": 12,
   "metadata": {},
   "outputs": [
    {
     "name": "stdout",
     "output_type": "stream",
     "text": [
      "{1: 1, 2: 1, 4: 2, 3: 1}\n",
      "[4, 3]\n"
     ]
    }
   ],
   "source": [
    "from collections import Counter\n",
    "num1 = [1,2,4,3,4]\n",
    "dict1 ={}\n",
    "#dict1 = Counter(num1)\n",
    "\n",
    "\n",
    "#if not use Coiunter then\n",
    "for num in num1:\n",
    "    if num in dict1:\n",
    "        dict1[num] +=1\n",
    "    else:\n",
    "        dict1[num] = 1\n",
    "print(dict1)\n",
    "\n",
    "dict_keys = sorted(dict1.keys(), reverse=True)\n",
    "print(dict_keys[:2])\n"
   ]
  },
  {
   "cell_type": "code",
   "execution_count": 27,
   "metadata": {},
   "outputs": [
    {
     "name": "stdout",
     "output_type": "stream",
     "text": [
      "140735143636168\n",
      "1617732975952\n",
      "1617732975952\n"
     ]
    }
   ],
   "source": [
    "class ListNode:\n",
    "    def __init__(self, val=0, next=None):\n",
    "        self.val = val\n",
    "        self.next = next\n",
    "    def __str__(self):\n",
    "        return f\"{self.val} {self.next}\"\n",
    "\n",
    "ln1 = ListNode(10)\n",
    "ln2 = ListNode(20, ln1)\n",
    "ln3 = ListNode(30, ln2)\n",
    "print(id(ln1.next))\n",
    "print(id(ln2))\n",
    "print(id(ln3.next))\n"
   ]
  },
  {
   "cell_type": "code",
   "execution_count": 29,
   "metadata": {},
   "outputs": [
    {
     "name": "stdout",
     "output_type": "stream",
     "text": [
      "1617726121936\n",
      "1617726121936\n"
     ]
    }
   ],
   "source": [
    "dummy = ListNode()\n",
    "tail = dummy\n",
    "print(id(dummy))\n",
    "print(id(tail))"
   ]
  },
  {
   "cell_type": "code",
   "execution_count": 32,
   "metadata": {},
   "outputs": [
    {
     "name": "stdout",
     "output_type": "stream",
     "text": [
      "[3, 2, 1]\n",
      "[6, 5, 4]\n",
      "[9, 8, 7]\n"
     ]
    }
   ],
   "source": [
    "def rotate(matrix: list[list[int]]) -> None:\n",
    "        \"\"\"\n",
    "        Do not return anything, modify matrix in-place instead.\n",
    "        \"\"\"\n",
    "        for i in range(len(matrix)):\n",
    "            for j in range(len(matrix)):\n",
    "                matrix[i][j], matrix[j][i] = matrix[j][i], matrix[i][j]\n",
    "        #print(matrix)\n",
    "\n",
    "        for row in matrix:\n",
    "            row.reverse()\n",
    "\n",
    "        return matrix\n",
    "matrix = [[1, 2, 3],[4, 5, 6],[7, 8, 9]]\n",
    "rotated_matrix = rotate(matrix)\n",
    "for row in rotated_matrix:\n",
    "    print(row)"
   ]
  },
  {
   "cell_type": "code",
   "execution_count": 28,
   "metadata": {},
   "outputs": [
    {
     "data": {
      "text/html": [
       "\n",
       "            <div>\n",
       "                <p><b>SparkSession - in-memory</b></p>\n",
       "                \n",
       "        <div>\n",
       "            <p><b>SparkContext</b></p>\n",
       "\n",
       "            <p><a href=\"http://Sourav.mshome.net:4040\">Spark UI</a></p>\n",
       "\n",
       "            <dl>\n",
       "              <dt>Version</dt>\n",
       "                <dd><code>v3.5.0</code></dd>\n",
       "              <dt>Master</dt>\n",
       "                <dd><code>local[*]</code></dd>\n",
       "              <dt>AppName</dt>\n",
       "                <dd><code>IPL_Data_Analysis</code></dd>\n",
       "            </dl>\n",
       "        </div>\n",
       "        \n",
       "            </div>\n",
       "        "
      ],
      "text/plain": [
       "<pyspark.sql.session.SparkSession at 0x178a8000350>"
      ]
     },
     "execution_count": 28,
     "metadata": {},
     "output_type": "execute_result"
    }
   ],
   "source": [
    "from pyspark.sql import SparkSession\n",
    "spark = SparkSession.builder.appName(\"IPL_Data_Analysis\").getOrCreate()\n",
    "spark"
   ]
  }
 ],
 "metadata": {
  "kernelspec": {
   "display_name": "Python 3",
   "language": "python",
   "name": "python3"
  },
  "language_info": {
   "codemirror_mode": {
    "name": "ipython",
    "version": 3
   },
   "file_extension": ".py",
   "mimetype": "text/x-python",
   "name": "python",
   "nbconvert_exporter": "python",
   "pygments_lexer": "ipython3",
   "version": "3.11.3"
  }
 },
 "nbformat": 4,
 "nbformat_minor": 2
}
