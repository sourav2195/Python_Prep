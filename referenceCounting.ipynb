{
 "cells": [
  {
   "cell_type": "markdown",
   "metadata": {},
   "source": [
    "Reference counting is a memory management technique used in Python to keep track of the number of references to an object in memory. When the reference count of an object drops to zero, Python automatically deallocates (frees) the memory occupied by that object."
   ]
  },
  {
   "cell_type": "code",
   "execution_count": 6,
   "metadata": {},
   "outputs": [
    {
     "name": "stdout",
     "output_type": "stream",
     "text": [
      "4\n"
     ]
    }
   ],
   "source": [
    "#Increasing Reference Count\n",
    "import sys\n",
    "\n",
    "a = [1,2,3,4]\n",
    "b = a\n",
    "c = b\n",
    "print(sys.getrefcount(a))"
   ]
  },
  {
   "cell_type": "markdown",
   "metadata": {},
   "source": [
    " - a refers to the list → count = 1\n",
    " - b refers to the same list → count = 2\n",
    " - c refers to the same list → count = 3\n",
    " - Function argument in sys.getrefcount(a) → count = 4"
   ]
  },
  {
   "cell_type": "code",
   "execution_count": 19,
   "metadata": {},
   "outputs": [
    {
     "name": "stdout",
     "output_type": "stream",
     "text": [
      "4\n",
      "3\n",
      "2\n"
     ]
    }
   ],
   "source": [
    "#Decreasing Reference Count\n",
    "import sys\n",
    "\n",
    "a = [1,2,3,4]\n",
    "b = a\n",
    "c = b\n",
    "\n",
    "print(sys.getrefcount(a))\n",
    "\n",
    "del b\n",
    "print(sys.getrefcount(a))\n",
    "\n",
    "del c\n",
    "print(sys.getrefcount(a))\n",
    "\n",
    "del a # Remove last reference → object is now garbage collected\n",
    "#print(sys.getrefcount(a)) \n"
   ]
  },
  {
   "cell_type": "markdown",
   "metadata": {},
   "source": [
    "**Circular References & Garbage Collector**<br>\n",
    "A problem arises when two or more objects reference each other, creating a circular reference. In such cases, reference counting alone cannot free the memory. Python handles this using the Garbage Collector (GC), which detects cyclic references and cleans them up"
   ]
  },
  {
   "cell_type": "code",
   "execution_count": 29,
   "metadata": {},
   "outputs": [
    {
     "data": {
      "text/plain": [
       "8"
      ]
     },
     "execution_count": 29,
     "metadata": {},
     "output_type": "execute_result"
    }
   ],
   "source": [
    "import gc\n",
    "import sys\n",
    "\n",
    "class Node:\n",
    "    def __init__(self, value):\n",
    "        self.value = value\n",
    "        self.next = None  #reference to another node\n",
    "\n",
    "a = Node(10)\n",
    "b = Node(20)\n",
    "\n",
    "a.next = b # a points to b\n",
    "b.next = a # b points to a (circular reference)\n",
    "\n",
    "del a\n",
    "del b\n",
    "\n",
    "gc.collect()\n",
    "#print(gc.get_objects())\n",
    "#print(sys.getrefcount(a))\n",
    "#print(sys.getrefcount(b))\n"
   ]
  }
 ],
 "metadata": {
  "kernelspec": {
   "display_name": "Python 3",
   "language": "python",
   "name": "python3"
  },
  "language_info": {
   "codemirror_mode": {
    "name": "ipython",
    "version": 3
   },
   "file_extension": ".py",
   "mimetype": "text/x-python",
   "name": "python",
   "nbconvert_exporter": "python",
   "pygments_lexer": "ipython3",
   "version": "3.11.3"
  }
 },
 "nbformat": 4,
 "nbformat_minor": 2
}
