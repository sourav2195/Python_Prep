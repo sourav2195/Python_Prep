{
 "cells": [
  {
   "cell_type": "markdown",
   "metadata": {},
   "source": [
    "**Implement a Singleton Class:** Write a class that restricts the instantiation of the class to a single object (Singleton)."
   ]
  },
  {
   "cell_type": "code",
   "execution_count": 11,
   "metadata": {},
   "outputs": [
    {
     "name": "stdout",
     "output_type": "stream",
     "text": [
      "<__main__.Singletone object at 0x00000265F605A5D0>\n",
      "<__main__.Singletone object at 0x00000265F605A5D0>\n",
      "True\n"
     ]
    }
   ],
   "source": [
    "class Singletone:\n",
    "    instance = None\n",
    "    #The __new__ method ensures that only one instance of the class is created.\n",
    "    def __new__(cls):\n",
    "        if not cls.instance:\n",
    "            cls.instance = super().__new__(cls)\n",
    "        return cls.instance\n",
    "\n",
    "#testing singletone\n",
    "obj1 = Singletone()\n",
    "obj2 = Singletone()\n",
    "print(obj1)\n",
    "print(obj2)\n",
    "print(obj1 == obj2)\n"
   ]
  },
  {
   "cell_type": "markdown",
   "metadata": {},
   "source": [
    "**Create a Class with a Private Attribute :** Write a class where an attribute is private and can only be accessed or modified using getter and setter methods."
   ]
  },
  {
   "cell_type": "code",
   "execution_count": 24,
   "metadata": {},
   "outputs": [
    {
     "name": "stdout",
     "output_type": "stream",
     "text": [
      "Sourav\n",
      "John\n"
     ]
    }
   ],
   "source": [
    "class Person:\n",
    "    def __init__(self, name):\n",
    "        self.__name = name #private attribute\n",
    "\n",
    "    def get_name(self):\n",
    "        return self.__name\n",
    "    \n",
    "    def set_name(self,name):\n",
    "        self.__name = name\n",
    "\n",
    "p1 = Person(\"Sourav\")\n",
    "#print(p1.__name)\n",
    "print(p1.get_name())\n",
    "p1.set_name(\"John\")\n",
    "print(p1.get_name())"
   ]
  },
  {
   "cell_type": "markdown",
   "metadata": {},
   "source": [
    "**Classmethod and Staticmethod :** Explain and demonstrate the difference between @classmethod and @staticmethod"
   ]
  }
 ],
 "metadata": {
  "kernelspec": {
   "display_name": "Python 3",
   "language": "python",
   "name": "python3"
  },
  "language_info": {
   "codemirror_mode": {
    "name": "ipython",
    "version": 3
   },
   "file_extension": ".py",
   "mimetype": "text/x-python",
   "name": "python",
   "nbconvert_exporter": "python",
   "pygments_lexer": "ipython3",
   "version": "3.11.3"
  }
 },
 "nbformat": 4,
 "nbformat_minor": 2
}
